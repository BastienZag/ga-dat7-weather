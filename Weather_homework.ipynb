{
 "cells": [
  {
   "cell_type": "markdown",
   "metadata": {},
   "source": [
    "# SYD DAT 7 Homework - Git, Markdown and Pandas\n",
    "\n",
    "## Homework: due Feb 20th 2017\n",
    "\n",
    "#### Setup\n",
    "* Create a repository\n",
    "* Copy this Homework1.ipynb file into your new repository\n",
    "\n",
    "#### Communication\n",
    "* Read about some [Markdown Techniques](http://daringfireball.net/projects/markdown/syntax)\n",
    "* Write a summary of a chapter of [The Data Science Handbook](http://www.thedatasciencehandbook.com/) in Markdown\n",
    "\n",
    "#### Programming\n",
    "* Complete the lab from class and the additional Exercise below\n",
    "\n",
    "#### Course Project\n",
    "* Come up with 5 different ideas for your course project. For each one list:\n",
    "  * Overview of your idea\n",
    "  * What data you will use, and how you will collect it\n",
    "  * What the outcome is that you are trying to achieve\n",
    "  * Any ideas of modelling techniques it may involve\n",
    "\n",
    "\n",
    "#### How to submit\n",
    "  * Send a message on Slack to Greg and Amanda to tell us the name of the repository you created and the\n",
    "  filename of the jupyter notebook where you've done your work\n"
   ]
  },
  {
   "cell_type": "markdown",
   "metadata": {},
   "source": [
    "# Course Project ideas\n",
    "\n",
    "All my ideas need neural net / deep learning\n",
    "\n",
    "## Twitter bot\n",
    "\n",
    "Create a bot that try to answer when people have problem about a certain topic.\n",
    "If the bot don't understand the question, then just post a link to our website.\n",
    "\n",
    "* Sentiment analysis or/and NLP\n",
    "\n",
    "## Facebook Chatbot\n",
    "\n",
    "I am working on a facebook Chatbot. I am using Microsoft LUIS NLP.\n",
    "I am thinking about improving my bot with different Machine learning ideas:\n",
    "\n",
    "* Sentiment analysis: Be able to prioritise ticket for human interaction depending if the user is angry or annoyed with the bot\n",
    "\n",
    "* Implement a Neural Network to recognise a certain type of document. example: Passport\n",
    "\n",
    "* Natural Language Processing: Replace Microsoft LUIS by my own NLP\n",
    "\n",
    "For theses ideas:\n",
    "\n",
    "I am collecting data at the moment. I have 5 testers and I can add more if needed.\n",
    "I am looking to maybe start a startup with this idea\n",
    "\n",
    "## Whiteboard to website generator\n",
    "\n",
    "* Implement a Neural Net to transform a picture of a website on a whiteboard, detect the correct web elements (headers, image, input, text) and generate the website.\n",
    "* Implement a Neural Net to know from a live camera feed if there is an user between the camera and the whiteboard\n",
    "\n",
    "For these ideas:\n",
    "\n",
    "I don't have any data at the moment but I can start taking pictures :)"
   ]
  },
  {
   "cell_type": "markdown",
   "metadata": {},
   "source": [
    "## Weather\n",
    "\n",
    "The Bureau of Meteorology keeps long-term data about rainfall, temperatures and so on. You generate a query,\n",
    "and then you can fetch that same data again for a while before the data is expired.\n",
    "\n",
    "* Go to http://www.bom.gov.au/climate/data\n",
    "* There's a pull down for \"Data about\": choose \"Rainfall\"\n",
    "* Select a weather station: choose Sydney\n",
    "* It will then come up with a list of matching towns: choose Sydney, NSW (the first one in the list)\n",
    "* It will then give a list of the nearest weather stations.\n",
    "* Choose 066062 Sydney Observatory\n",
    "* Select the year 2016\n",
    "* Click on the \"Get Data\" button.\n",
    "* That next page you get will have a URL very similar to this:\n",
    "http://www.bom.gov.au/jsp/ncc/cdio/weatherData/av?p_nccObsCode=136&p_display_type=dailyDataFile&p_startYear=2016&p_c=-872836455&p_stn_num=066062"
   ]
  },
  {
   "cell_type": "code",
   "execution_count": null,
   "metadata": {
    "collapsed": true
   },
   "outputs": [],
   "source": [
    "# Use pandas to read the rainfall table from the web (as described in the previous cell). \n",
    "# Ignore the summary statistics.\n",
    "# Select the 'Monthly Total' row and sum it to get a yearly rainfall\n",
    "# (Optional) Create a function that returns the yearly rainfall for a given year. Plot rainfall over time"
   ]
  },
  {
   "cell_type": "code",
   "execution_count": 41,
   "metadata": {
    "collapsed": false
   },
   "outputs": [],
   "source": [
    "import pandas\n",
    "weather_table = pandas.read_html('http://www.bom.gov.au/jsp/ncc/cdio/weatherData/av?p_nccObsCode=136&p_display_type=dailyDataFile&p_startYear=2016&p_c=-872837501&p_stn_num=066062', header = 0, index_col = 0)"
   ]
  },
  {
   "cell_type": "code",
   "execution_count": 49,
   "metadata": {
    "collapsed": false
   },
   "outputs": [
    {
     "data": {
      "text/plain": [
       "1385.6000000000001"
      ]
     },
     "execution_count": 49,
     "metadata": {},
     "output_type": "execute_result"
    }
   ],
   "source": [
    "yearly_rainfall = weather_table[0].loc['Monthly Total'].sum()\n",
    "yearly_rainfall"
   ]
  },
  {
   "cell_type": "markdown",
   "metadata": {},
   "source": [
    "# Function to get the yearly rainfall sum by year"
   ]
  },
  {
   "cell_type": "code",
   "execution_count": 59,
   "metadata": {
    "collapsed": false
   },
   "outputs": [],
   "source": [
    "def get_yearly_rainfall(year):\n",
    "    weather_table_for_selected_year = pandas.read_html('http://www.bom.gov.au/jsp/ncc/cdio/weatherData/av?p_nccObsCode=136&p_display_type=dailyDataFile&p_startYear=' + year + '&p_c=-872837501&p_stn_num=066062', header = 0, index_col = 0)\n",
    "    return weather_table_for_selected_year[0].loc['Monthly Total'].sum()"
   ]
  },
  {
   "cell_type": "code",
   "execution_count": 65,
   "metadata": {
    "collapsed": false
   },
   "outputs": [
    {
     "data": {
      "text/plain": [
       "897.1999999999999"
      ]
     },
     "execution_count": 65,
     "metadata": {},
     "output_type": "execute_result"
    }
   ],
   "source": [
    "# call the function\n",
    "get_yearly_rainfall('2014')"
   ]
  },
  {
   "cell_type": "code",
   "execution_count": 66,
   "metadata": {
    "collapsed": false
   },
   "outputs": [
    {
     "data": {
      "text/plain": [
       "1385.6000000000001"
      ]
     },
     "execution_count": 66,
     "metadata": {},
     "output_type": "execute_result"
    }
   ],
   "source": [
    "# call the function\n",
    "get_yearly_rainfall('2016')"
   ]
  },
  {
   "cell_type": "markdown",
   "metadata": {
    "collapsed": true
   },
   "source": [
    "Markdown example from the [data science handbook](http://www.thedatasciencehandbook.com/)\n",
    "\n",
    "# DJ PATIL VP of Product at RelateIQ\n",
    "\n",
    "## The Importance of Taking Chances and Giving Back\n",
    "\n",
    "<img style=\"float: left; border: 1px solid blue; width: 200px; margin: 20px;\" src=\"https://pbs.twimg.com/profile_images/568201113938034688/ECBK2RgP.jpeg\">\n",
    "\n",
    "*DJ Patil is co-coiner of the term ‘Data Scientist’ and coauthor\n",
    "of the Harvard Business Review article: “Data\n",
    "Scientist: Sexiest Job of the 21st Century.”*\n",
    "\n",
    "*Fascinated by math at an early age, DJ completed a B.A.\n",
    "in Mathematics at University of California, San Diego and\n",
    "a PhD in Applied Mathematics at University of Maryland\n",
    "where he studied nonlinear dynamics, chaos theory, and\n",
    "complexity. Before joining the tech world, he did nearly a\n",
    "decade of research in meteorology, and consulted for the\n",
    "Department of Defense and Department of Energy. During\n",
    "his tech career, DJ has worked at eBay as a Principal\n",
    "Architect and Research Scientist, and at LinkedIn as Head of Data Products, where he\n",
    "co-coined the term “Data Scientist” with Jeff Hammerbacher and built one of the premier\n",
    "data science teams. He is now VP of Product at RelateIQ, a next generation, data-driven\n",
    "customer relationship management (CRM) software. Most recently RelateIQ was acquired\n",
    "by Salesforce.com for its novel data science technology.*\n",
    "\n",
    "\n",
    "** Something that touched a lot of people from your presentations is your speech on failure. It’s surprising to see someone as accomplished as yourself talk about failure. Can you tell us a bit more about that? **\n",
    "\n",
    "\n",
    "Something most people struggle with when starting their career is how they enter the job market correctly. The first role you have places you in a “box” that other people use to infer what skills you have. If you enter as a salesperson you’re into sales, if you enter as a media person you’re into media, if you enter as a product person you’re into products etc. Certain boxes make more sense to transition in or out of than other ones. \n",
    "\n",
    "> Nobody just discovers you at a cafe and says “Hey,\n",
    "by the way you’re writing on that piece of napkin, you\n",
    "must be smart!” That’s not how it works, you must\n",
    "put yourself in positions where somebody can actually\n",
    "take a risk on you, before they can give you that\n",
    "opportunity.\n",
    "\n",
    "The academic box is a tough one because automatically, by definition, you’re an academic. The question is: Where do you go from there? How do you jump into a different box? I think we have a challenge that people and organizations like to hire others like themselves. For example, at Ayasdi (a topological machine learning company) there’s a disproportionate amount of mathematicians and a surprising number of topologists.\n",
    "\n",
    "> It first starts by proving you can\n",
    "do something, that you can make\n",
    "something.\n",
    "\n",
    "** What do you think about risk taking, and defining oneself? **\n",
    "\n",
    "Everyone needs to chart their own destiny. The only I thing I think is for certain is that as an individual, you get to ask the questions, and by asking the questions and interpreting the answers, you decide the narrative that is appropriate for you. If the narrative is wrong, it’s your narrative to change. If you don’t like what you’re doing, you get to change it."
   ]
  },
  {
   "cell_type": "code",
   "execution_count": null,
   "metadata": {
    "collapsed": true
   },
   "outputs": [],
   "source": []
  }
 ],
 "metadata": {
  "kernelspec": {
   "display_name": "Python 3",
   "language": "python",
   "name": "python3"
  },
  "language_info": {
   "codemirror_mode": {
    "name": "ipython",
    "version": 3
   },
   "file_extension": ".py",
   "mimetype": "text/x-python",
   "name": "python",
   "nbconvert_exporter": "python",
   "pygments_lexer": "ipython3",
   "version": "3.6.0"
  }
 },
 "nbformat": 4,
 "nbformat_minor": 0
}
