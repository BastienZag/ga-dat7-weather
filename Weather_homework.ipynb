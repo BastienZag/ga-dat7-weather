{
 "cells": [
  {
   "cell_type": "markdown",
   "metadata": {},
   "source": [
    "# SYD DAT 7 Homework - Git, Markdown and Pandas\n",
    "\n",
    "## Homework: due Feb 20th 2017\n",
    "\n",
    "#### Setup\n",
    "* Create a repository\n",
    "* Copy this Homework1.ipynb file into your new repository\n",
    "\n",
    "#### Communication\n",
    "* Read about some [Markdown Techniques](http://daringfireball.net/projects/markdown/syntax)\n",
    "* Write a summary of a chapter of [The Data Science Handbook](http://www.thedatasciencehandbook.com/) in Markdown\n",
    "\n",
    "#### Programming\n",
    "* Complete the lab from class and the additional Exercise below\n",
    "\n",
    "#### Course Project\n",
    "* Come up with 5 different ideas for your course project. For each one list:\n",
    "  * Overview of your idea\n",
    "  * What data you will use, and how you will collect it\n",
    "  * What the outcome is that you are trying to achieve\n",
    "  * Any ideas of modelling techniques it may involve\n",
    "\n",
    "\n",
    "#### How to submit\n",
    "  * Send a message on Slack to Greg and Amanda to tell us the name of the repository you created and the\n",
    "  filename of the jupyter notebook where you've done your work\n"
   ]
  },
  {
   "cell_type": "markdown",
   "metadata": {},
   "source": [
    "# Course Project ideas\n",
    "\n",
    "## Facebook Chatbot\n",
    "\n",
    "I am working on a facebook Chatbot. I am using Microsoft LUIS NLP.\n",
    "I am thinking about improving my bot with different Machine learning ideas:\n",
    "\n",
    "* Sentiment analysis: Be able to prioritise ticket for human interaction depending if the user is angry or annoyed with the bot\n",
    "\n",
    "* Implement a Neural Network to recognise a certain type of document. example: Passport\n",
    "\n",
    "* Natural Language Processing: Replace Microsoft LUIS by my own NLP\n",
    "\n",
    "For theses ideas:\n",
    "\n",
    "I am collecting data at the moment. I have 5 testers and I can add more if needed.\n",
    "I am looking to maybe start a startup with this idea\n",
    "\n",
    "## Whiteboard to website generator\n",
    "\n",
    "* Implement a Neural Net to transform a picture of a website on a whiteboard, detect the correct web elements (headers, image, input, text) and generate the website.\n",
    "* Implement a Neural Net to know from a live camera feed if there is an user between the camera and the whiteboard\n",
    "\n",
    "For these ideas:\n",
    "\n",
    "I don't have any data at the moment but I can start taking pictures :)"
   ]
  },
  {
   "cell_type": "markdown",
   "metadata": {},
   "source": [
    "## Weather\n",
    "\n",
    "The Bureau of Meteorology keeps long-term data about rainfall, temperatures and so on. You generate a query,\n",
    "and then you can fetch that same data again for a while before the data is expired.\n",
    "\n",
    "* Go to http://www.bom.gov.au/climate/data\n",
    "* There's a pull down for \"Data about\": choose \"Rainfall\"\n",
    "* Select a weather station: choose Sydney\n",
    "* It will then come up with a list of matching towns: choose Sydney, NSW (the first one in the list)\n",
    "* It will then give a list of the nearest weather stations.\n",
    "* Choose 066062 Sydney Observatory\n",
    "* Select the year 2016\n",
    "* Click on the \"Get Data\" button.\n",
    "* That next page you get will have a URL very similar to this:\n",
    "http://www.bom.gov.au/jsp/ncc/cdio/weatherData/av?p_nccObsCode=136&p_display_type=dailyDataFile&p_startYear=2016&p_c=-872836455&p_stn_num=066062"
   ]
  },
  {
   "cell_type": "code",
   "execution_count": null,
   "metadata": {
    "collapsed": true
   },
   "outputs": [],
   "source": [
    "# Use pandas to read the rainfall table from the web (as described in the previous cell). \n",
    "# Ignore the summary statistics.\n",
    "# Select the 'Monthly Total' row and sum it to get a yearly rainfall\n",
    "# (Optional) Create a function that returns the yearly rainfall for a given year. Plot rainfall over time"
   ]
  },
  {
   "cell_type": "code",
   "execution_count": 41,
   "metadata": {
    "collapsed": false
   },
   "outputs": [],
   "source": [
    "import pandas\n",
    "weather_table = pandas.read_html('http://www.bom.gov.au/jsp/ncc/cdio/weatherData/av?p_nccObsCode=136&p_display_type=dailyDataFile&p_startYear=2016&p_c=-872837501&p_stn_num=066062', header = 0, index_col = 0)"
   ]
  },
  {
   "cell_type": "code",
   "execution_count": 49,
   "metadata": {
    "collapsed": false
   },
   "outputs": [
    {
     "data": {
      "text/plain": [
       "1385.6000000000001"
      ]
     },
     "execution_count": 49,
     "metadata": {},
     "output_type": "execute_result"
    }
   ],
   "source": [
    "yearly_rainfall = weather_table[0].loc['Monthly Total'].sum()\n",
    "yearly_rainfall"
   ]
  },
  {
   "cell_type": "markdown",
   "metadata": {},
   "source": [
    "# Function to get the yearly rainfall sum by year"
   ]
  },
  {
   "cell_type": "code",
   "execution_count": 59,
   "metadata": {
    "collapsed": false
   },
   "outputs": [],
   "source": [
    "def get_yearly_rainfall(year):\n",
    "    weather_table_for_selected_year = pandas.read_html('http://www.bom.gov.au/jsp/ncc/cdio/weatherData/av?p_nccObsCode=136&p_display_type=dailyDataFile&p_startYear=' + year + '&p_c=-872837501&p_stn_num=066062', header = 0, index_col = 0)\n",
    "    return weather_table_for_selected_year[0].loc['Monthly Total'].sum()"
   ]
  },
  {
   "cell_type": "code",
   "execution_count": 65,
   "metadata": {
    "collapsed": false
   },
   "outputs": [
    {
     "data": {
      "text/plain": [
       "897.1999999999999"
      ]
     },
     "execution_count": 65,
     "metadata": {},
     "output_type": "execute_result"
    }
   ],
   "source": [
    "# call the function\n",
    "get_yearly_rainfall('2014')"
   ]
  },
  {
   "cell_type": "code",
   "execution_count": 66,
   "metadata": {
    "collapsed": false
   },
   "outputs": [
    {
     "data": {
      "text/plain": [
       "1385.6000000000001"
      ]
     },
     "execution_count": 66,
     "metadata": {},
     "output_type": "execute_result"
    }
   ],
   "source": [
    "# call the function\n",
    "get_yearly_rainfall('2016')"
   ]
  },
  {
   "cell_type": "code",
   "execution_count": null,
   "metadata": {
    "collapsed": true
   },
   "outputs": [],
   "source": []
  }
 ],
 "metadata": {
  "kernelspec": {
   "display_name": "Python 3",
   "language": "python",
   "name": "python3"
  },
  "language_info": {
   "codemirror_mode": {
    "name": "ipython",
    "version": 3
   },
   "file_extension": ".py",
   "mimetype": "text/x-python",
   "name": "python",
   "nbconvert_exporter": "python",
   "pygments_lexer": "ipython3",
   "version": "3.6.0"
  }
 },
 "nbformat": 4,
 "nbformat_minor": 0
}
